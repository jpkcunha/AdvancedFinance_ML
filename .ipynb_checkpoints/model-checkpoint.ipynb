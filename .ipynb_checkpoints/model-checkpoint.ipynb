{
 "cells": [
  {
   "cell_type": "markdown",
   "metadata": {},
   "source": [
    "# PYCE Loans Insurance Model\n",
    "\n",
    "### Machine Learning Model for calculating the probability of loan default and estimating interest rates to maximize profits\n",
    "\n",
    "### Methods used and compared: Linear Regression, Logistic Regression, Random Forest"
   ]
  },
  {
   "cell_type": "code",
   "execution_count": 1,
   "metadata": {
    "scrolled": true
   },
   "outputs": [],
   "source": [
    "import pandas as pd\n",
    "import numpy as np\n",
    "import seaborn as sns\n",
    "import matplotlib.pyplot as plt\n",
    "from sklearn.linear_model import LinearRegression, LogisticRegression\n",
    "from sklearn.ensemble import RandomForestRegressor\n",
    "from sklearn.preprocessing import StandardScaler, LabelEncoder, OneHotEncoder\n",
    "from sklearn.metrics import mean_squared_error, r2_score, make_scorer\n",
    "from sklearn.model_selection import KFold, GridSearchCV, train_test_split\n",
    "import time\n",
    "import warnings\n",
    "warnings.filterwarnings(\"ignore\")"
   ]
  },
  {
   "cell_type": "markdown",
   "metadata": {},
   "source": [
    "### Past Loans\n",
    "- 100,000 loans\n",
    "- No null values or outliers\n",
    "- 19,632 defaults: 19.6% default rate"
   ]
  },
  {
   "cell_type": "code",
   "execution_count": 2,
   "metadata": {
    "scrolled": false
   },
   "outputs": [
    {
     "data": {
      "text/html": [
       "<div>\n",
       "<style scoped>\n",
       "    .dataframe tbody tr th:only-of-type {\n",
       "        vertical-align: middle;\n",
       "    }\n",
       "\n",
       "    .dataframe tbody tr th {\n",
       "        vertical-align: top;\n",
       "    }\n",
       "\n",
       "    .dataframe thead th {\n",
       "        text-align: right;\n",
       "    }\n",
       "</style>\n",
       "<table border=\"1\" class=\"dataframe\">\n",
       "  <thead>\n",
       "    <tr style=\"text-align: right;\">\n",
       "      <th></th>\n",
       "      <th>sex</th>\n",
       "      <th>employment</th>\n",
       "      <th>marital</th>\n",
       "      <th>income</th>\n",
       "      <th>social1</th>\n",
       "      <th>social2</th>\n",
       "      <th>social3</th>\n",
       "      <th>default</th>\n",
       "    </tr>\n",
       "  </thead>\n",
       "  <tbody>\n",
       "    <tr>\n",
       "      <th>0</th>\n",
       "      <td>1</td>\n",
       "      <td>unemployed</td>\n",
       "      <td>0</td>\n",
       "      <td>5458</td>\n",
       "      <td>0.028116</td>\n",
       "      <td>0.983725</td>\n",
       "      <td>0.732502</td>\n",
       "      <td>0</td>\n",
       "    </tr>\n",
       "    <tr>\n",
       "      <th>1</th>\n",
       "      <td>1</td>\n",
       "      <td>employed</td>\n",
       "      <td>1</td>\n",
       "      <td>26108</td>\n",
       "      <td>0.638239</td>\n",
       "      <td>0.592502</td>\n",
       "      <td>0.615449</td>\n",
       "      <td>0</td>\n",
       "    </tr>\n",
       "    <tr>\n",
       "      <th>2</th>\n",
       "      <td>1</td>\n",
       "      <td>employed</td>\n",
       "      <td>1</td>\n",
       "      <td>11810</td>\n",
       "      <td>0.240542</td>\n",
       "      <td>0.630370</td>\n",
       "      <td>0.174645</td>\n",
       "      <td>0</td>\n",
       "    </tr>\n",
       "    <tr>\n",
       "      <th>3</th>\n",
       "      <td>1</td>\n",
       "      <td>unemployed</td>\n",
       "      <td>1</td>\n",
       "      <td>5375</td>\n",
       "      <td>0.648089</td>\n",
       "      <td>0.000000</td>\n",
       "      <td>0.216376</td>\n",
       "      <td>0</td>\n",
       "    </tr>\n",
       "    <tr>\n",
       "      <th>4</th>\n",
       "      <td>0</td>\n",
       "      <td>retired</td>\n",
       "      <td>1</td>\n",
       "      <td>3459</td>\n",
       "      <td>0.360834</td>\n",
       "      <td>0.000000</td>\n",
       "      <td>0.346708</td>\n",
       "      <td>1</td>\n",
       "    </tr>\n",
       "    <tr>\n",
       "      <th>...</th>\n",
       "      <td>...</td>\n",
       "      <td>...</td>\n",
       "      <td>...</td>\n",
       "      <td>...</td>\n",
       "      <td>...</td>\n",
       "      <td>...</td>\n",
       "      <td>...</td>\n",
       "      <td>...</td>\n",
       "    </tr>\n",
       "    <tr>\n",
       "      <th>99995</th>\n",
       "      <td>1</td>\n",
       "      <td>student</td>\n",
       "      <td>0</td>\n",
       "      <td>3442</td>\n",
       "      <td>0.548980</td>\n",
       "      <td>0.057879</td>\n",
       "      <td>0.064186</td>\n",
       "      <td>0</td>\n",
       "    </tr>\n",
       "    <tr>\n",
       "      <th>99996</th>\n",
       "      <td>1</td>\n",
       "      <td>employed</td>\n",
       "      <td>0</td>\n",
       "      <td>22947</td>\n",
       "      <td>0.000000</td>\n",
       "      <td>0.779408</td>\n",
       "      <td>0.726523</td>\n",
       "      <td>0</td>\n",
       "    </tr>\n",
       "    <tr>\n",
       "      <th>99997</th>\n",
       "      <td>1</td>\n",
       "      <td>employed</td>\n",
       "      <td>0</td>\n",
       "      <td>29567</td>\n",
       "      <td>0.802285</td>\n",
       "      <td>0.733289</td>\n",
       "      <td>0.589167</td>\n",
       "      <td>0</td>\n",
       "    </tr>\n",
       "    <tr>\n",
       "      <th>99998</th>\n",
       "      <td>1</td>\n",
       "      <td>employed</td>\n",
       "      <td>1</td>\n",
       "      <td>66772</td>\n",
       "      <td>0.231345</td>\n",
       "      <td>0.675198</td>\n",
       "      <td>0.655388</td>\n",
       "      <td>0</td>\n",
       "    </tr>\n",
       "    <tr>\n",
       "      <th>99999</th>\n",
       "      <td>1</td>\n",
       "      <td>student</td>\n",
       "      <td>0</td>\n",
       "      <td>14848</td>\n",
       "      <td>0.985559</td>\n",
       "      <td>0.930599</td>\n",
       "      <td>0.000000</td>\n",
       "      <td>0</td>\n",
       "    </tr>\n",
       "  </tbody>\n",
       "</table>\n",
       "<p>100000 rows × 8 columns</p>\n",
       "</div>"
      ],
      "text/plain": [
       "       sex  employment  marital  income   social1   social2   social3  default\n",
       "0        1  unemployed        0    5458  0.028116  0.983725  0.732502        0\n",
       "1        1    employed        1   26108  0.638239  0.592502  0.615449        0\n",
       "2        1    employed        1   11810  0.240542  0.630370  0.174645        0\n",
       "3        1  unemployed        1    5375  0.648089  0.000000  0.216376        0\n",
       "4        0     retired        1    3459  0.360834  0.000000  0.346708        1\n",
       "...    ...         ...      ...     ...       ...       ...       ...      ...\n",
       "99995    1     student        0    3442  0.548980  0.057879  0.064186        0\n",
       "99996    1    employed        0   22947  0.000000  0.779408  0.726523        0\n",
       "99997    1    employed        0   29567  0.802285  0.733289  0.589167        0\n",
       "99998    1    employed        1   66772  0.231345  0.675198  0.655388        0\n",
       "99999    1     student        0   14848  0.985559  0.930599  0.000000        0\n",
       "\n",
       "[100000 rows x 8 columns]"
      ]
     },
     "execution_count": 2,
     "metadata": {},
     "output_type": "execute_result"
    }
   ],
   "source": [
    "df_total = pd.read_csv('PastLoans.csv').drop('id', axis = 1)\n",
    "df_total"
   ]
  },
  {
   "cell_type": "code",
   "execution_count": 3,
   "metadata": {
    "scrolled": true
   },
   "outputs": [
    {
     "data": {
      "text/html": [
       "<div>\n",
       "<style scoped>\n",
       "    .dataframe tbody tr th:only-of-type {\n",
       "        vertical-align: middle;\n",
       "    }\n",
       "\n",
       "    .dataframe tbody tr th {\n",
       "        vertical-align: top;\n",
       "    }\n",
       "\n",
       "    .dataframe thead th {\n",
       "        text-align: right;\n",
       "    }\n",
       "</style>\n",
       "<table border=\"1\" class=\"dataframe\">\n",
       "  <thead>\n",
       "    <tr style=\"text-align: right;\">\n",
       "      <th></th>\n",
       "      <th>sex</th>\n",
       "      <th>marital</th>\n",
       "      <th>income</th>\n",
       "      <th>social1</th>\n",
       "      <th>social2</th>\n",
       "      <th>social3</th>\n",
       "      <th>default</th>\n",
       "    </tr>\n",
       "  </thead>\n",
       "  <tbody>\n",
       "    <tr>\n",
       "      <th>count</th>\n",
       "      <td>100000.000000</td>\n",
       "      <td>100000.000000</td>\n",
       "      <td>100000.000000</td>\n",
       "      <td>100000.000000</td>\n",
       "      <td>100000.000000</td>\n",
       "      <td>100000.000000</td>\n",
       "      <td>100000.000000</td>\n",
       "    </tr>\n",
       "    <tr>\n",
       "      <th>mean</th>\n",
       "      <td>0.725190</td>\n",
       "      <td>0.610080</td>\n",
       "      <td>19682.353060</td>\n",
       "      <td>0.418179</td>\n",
       "      <td>0.415494</td>\n",
       "      <td>0.414410</td>\n",
       "      <td>0.196320</td>\n",
       "    </tr>\n",
       "    <tr>\n",
       "      <th>std</th>\n",
       "      <td>0.446421</td>\n",
       "      <td>0.487734</td>\n",
       "      <td>50489.814607</td>\n",
       "      <td>0.324487</td>\n",
       "      <td>0.325033</td>\n",
       "      <td>0.324663</td>\n",
       "      <td>0.397215</td>\n",
       "    </tr>\n",
       "    <tr>\n",
       "      <th>min</th>\n",
       "      <td>0.000000</td>\n",
       "      <td>0.000000</td>\n",
       "      <td>0.000000</td>\n",
       "      <td>0.000000</td>\n",
       "      <td>0.000000</td>\n",
       "      <td>0.000000</td>\n",
       "      <td>0.000000</td>\n",
       "    </tr>\n",
       "    <tr>\n",
       "      <th>25%</th>\n",
       "      <td>0.000000</td>\n",
       "      <td>0.000000</td>\n",
       "      <td>5820.000000</td>\n",
       "      <td>0.066323</td>\n",
       "      <td>0.061329</td>\n",
       "      <td>0.060052</td>\n",
       "      <td>0.000000</td>\n",
       "    </tr>\n",
       "    <tr>\n",
       "      <th>50%</th>\n",
       "      <td>1.000000</td>\n",
       "      <td>1.000000</td>\n",
       "      <td>9810.000000</td>\n",
       "      <td>0.453770</td>\n",
       "      <td>0.442771</td>\n",
       "      <td>0.440763</td>\n",
       "      <td>0.000000</td>\n",
       "    </tr>\n",
       "    <tr>\n",
       "      <th>75%</th>\n",
       "      <td>1.000000</td>\n",
       "      <td>1.000000</td>\n",
       "      <td>18177.250000</td>\n",
       "      <td>0.694809</td>\n",
       "      <td>0.693125</td>\n",
       "      <td>0.691053</td>\n",
       "      <td>0.000000</td>\n",
       "    </tr>\n",
       "    <tr>\n",
       "      <th>max</th>\n",
       "      <td>1.000000</td>\n",
       "      <td>1.000000</td>\n",
       "      <td>1000000.000000</td>\n",
       "      <td>0.999994</td>\n",
       "      <td>0.999982</td>\n",
       "      <td>0.999980</td>\n",
       "      <td>1.000000</td>\n",
       "    </tr>\n",
       "  </tbody>\n",
       "</table>\n",
       "</div>"
      ],
      "text/plain": [
       "                 sex        marital          income        social1  \\\n",
       "count  100000.000000  100000.000000   100000.000000  100000.000000   \n",
       "mean        0.725190       0.610080    19682.353060       0.418179   \n",
       "std         0.446421       0.487734    50489.814607       0.324487   \n",
       "min         0.000000       0.000000        0.000000       0.000000   \n",
       "25%         0.000000       0.000000     5820.000000       0.066323   \n",
       "50%         1.000000       1.000000     9810.000000       0.453770   \n",
       "75%         1.000000       1.000000    18177.250000       0.694809   \n",
       "max         1.000000       1.000000  1000000.000000       0.999994   \n",
       "\n",
       "             social2        social3        default  \n",
       "count  100000.000000  100000.000000  100000.000000  \n",
       "mean        0.415494       0.414410       0.196320  \n",
       "std         0.325033       0.324663       0.397215  \n",
       "min         0.000000       0.000000       0.000000  \n",
       "25%         0.061329       0.060052       0.000000  \n",
       "50%         0.442771       0.440763       0.000000  \n",
       "75%         0.693125       0.691053       0.000000  \n",
       "max         0.999982       0.999980       1.000000  "
      ]
     },
     "execution_count": 3,
     "metadata": {},
     "output_type": "execute_result"
    }
   ],
   "source": [
    "df_total.describe()"
   ]
  },
  {
   "cell_type": "code",
   "execution_count": 4,
   "metadata": {
    "scrolled": true
   },
   "outputs": [
    {
     "name": "stdout",
     "output_type": "stream",
     "text": [
      "Default rate for past loans: 19.63%\n"
     ]
    },
    {
     "data": {
      "text/plain": [
       "0    80368\n",
       "1    19632\n",
       "Name: default, dtype: int64"
      ]
     },
     "execution_count": 4,
     "metadata": {},
     "output_type": "execute_result"
    }
   ],
   "source": [
    "proportion = df_total.default.value_counts()\n",
    "print(\"Default rate for past loans: {:.2f}%\".format(proportion.loc[1]/proportion.sum()*100))\n",
    "proportion"
   ]
  },
  {
   "cell_type": "markdown",
   "metadata": {},
   "source": [
    "## Functions\n",
    "\n",
    "#### - Data cleaning and preprocessing\n",
    "#### - Train & test models in past loans using Kfold\n",
    "#### - Analyze data and compare models"
   ]
  },
  {
   "cell_type": "code",
   "execution_count": 12,
   "metadata": {
    "scrolled": true
   },
   "outputs": [],
   "source": [
    "# Prepare dataframe and identify model features relevant to loan defaults\n",
    "def preprocess(df):\n",
    "    tot = df.copy()\n",
    "    \n",
    "    enc = OneHotEncoder(categories='auto') # Create dummy variables\n",
    "    features = enc.fit_transform(tot[['employment']]).toarray() # Transform categorical into numerical\n",
    "    names = np.concatenate(enc.categories_) # Transform above variables into column names\n",
    "    \n",
    "    l_drop = ['employment','default', 'social1','social3'] # Focus on social2 profiles\n",
    "    X = pd.DataFrame(features, columns=names) # Create dataframe with dummy variables\n",
    "    \n",
    "    # Substitute categorical variable in original dataframe\n",
    "    X = pd.concat([tot, X],axis=1) \n",
    "    X = X.drop(l_drop,axis=1)\n",
    "    y = tot['default']\n",
    "    return (X,y)\n",
    "\n",
    "\n",
    "# Print the default rate for each group\n",
    "def print_default_rates(model, bins):\n",
    "    df = model.sort_values(by= 'probability').reset_index().drop('index', axis = 1)\n",
    "    #df['decile'] = pd.qcut(df['probability'], bins, labels = False)\n",
    "    num = df.shape[0]//bins #Samples per group\n",
    "    for i in range(bins):\n",
    "        x = df.iloc[num*i : num*(i+1)].default.value_counts()\n",
    "        if x.shape[0] == 2:\n",
    "            print('Percentile {}: {:.2f}%'.format(i+1, x.loc[1]/x.sum()*100))\n",
    "        else:\n",
    "            print('Percentile {}: 0.00% <--'.format(i+1))\n",
    "    return\n",
    "\n",
    "\n",
    "# Run model and complile results\n",
    "def runModel(df,regr):\n",
    "    X, y = preprocess(df)\n",
    "    \n",
    "    kf = KFold(n_splits=5, random_state=1, shuffle=True)\n",
    "    cont = 0\n",
    "    menor = 10000000\n",
    "    for train_index, test_index in kf.split(X):\n",
    "        \n",
    "        X_train = X.iloc[train_index]\n",
    "        X_test = X.iloc[test_index]\n",
    "        y_train = y.iloc[train_index]\n",
    "        y_test = y.iloc[test_index]\n",
    "        \n",
    "        regr.fit(X_train, y_train)\n",
    "        pred = regr.predict(X_test)\n",
    "        \n",
    "        \n",
    "        aux = X_test.copy()\n",
    "        aux['default'] = y_test\n",
    "        aux['probability'] = pred\n",
    "        \n",
    "        if cont == 0:\n",
    "            df_result = aux\n",
    "        else:\n",
    "            df_result = pd.concat([df_result, aux])\n",
    "        cont += 1\n",
    "    return df_result"
   ]
  },
  {
   "cell_type": "markdown",
   "metadata": {},
   "source": [
    "## Model 1: Random Forest\n",
    "\n",
    "#### Arbitrary parameters: they can be fine-tuned later (GridSearchCV)"
   ]
  },
  {
   "cell_type": "code",
   "execution_count": 13,
   "metadata": {
    "scrolled": false
   },
   "outputs": [
    {
     "name": "stdout",
     "output_type": "stream",
     "text": [
      "********* Random Forest *********\n",
      "Percentile 1: 2.72%\n",
      "Percentile 2: 7.52%\n",
      "Percentile 3: 10.56%\n",
      "Percentile 4: 13.90%\n",
      "Percentile 5: 17.48%\n",
      "Percentile 6: 20.68%\n",
      "Percentile 7: 24.16%\n",
      "Percentile 8: 28.10%\n",
      "Percentile 9: 31.56%\n",
      "Percentile 10: 39.64%\n",
      "--- 440.07 seconds ---\n"
     ]
    }
   ],
   "source": [
    "# Stratifying past loans into quartiles, based on default probability\n",
    "\n",
    "start_time = time.time()\n",
    "\n",
    "regr = RandomForestRegressor(max_depth=20, max_features='sqrt', min_samples_split=10,\n",
    "                      n_estimators=500, random_state=1)\n",
    "\n",
    "print(\"********* Random Forest *********\")\n",
    "rf_model = runModel(df_total,regr)\n",
    "print_default_rates(rf_model, 10)\n",
    "print(\"--- {:.2f} seconds ---\".format(time.time() - start_time))"
   ]
  },
  {
   "cell_type": "code",
   "execution_count": 14,
   "metadata": {
    "scrolled": false
   },
   "outputs": [
    {
     "data": {
      "image/png": "[encoded data removed]",
      "text/plain": [
       "<Figure size 432x288 with 1 Axes>"
      ]
     },
     "metadata": {
      "needs_background": "light"
     },
     "output_type": "display_data"
    },
    {
     "data": {
      "image/png": "[encoded data removed]",
      "text/plain": [
       "<Figure size 432x288 with 1 Axes>"
      ]
     },
     "metadata": {
      "needs_background": "light"
     },
     "output_type": "display_data"
    }
   ],
   "source": [
    "plt.hist(rf_model[rf_model['default'] == 0].probability)\n",
    "plt.title('Probability distribution - no default')\n",
    "plt.show()\n",
    "\n",
    "plt.hist(rf_model[rf_model['default'] == 1].probability)\n",
    "plt.title('Probability distribution - default')\n",
    "plt.show()"
   ]
  },
  {
   "cell_type": "markdown",
   "metadata": {},
   "source": [
    "## Model 2: Linear Regression"
   ]
  },
  {
   "cell_type": "code",
   "execution_count": 15,
   "metadata": {
    "scrolled": false
   },
   "outputs": [
    {
     "name": "stdout",
     "output_type": "stream",
     "text": [
      "********* Random Forest *********\n",
      "Percentile 1: 5.56%\n",
      "Percentile 2: 11.18%\n",
      "Percentile 3: 15.32%\n",
      "Percentile 4: 17.65%\n",
      "Percentile 5: 18.73%\n",
      "Percentile 6: 20.52%\n",
      "Percentile 7: 20.94%\n",
      "Percentile 8: 25.19%\n",
      "Percentile 9: 26.18%\n",
      "Percentile 10: 35.05%\n",
      "--- 0.44 seconds ---\n"
     ]
    }
   ],
   "source": [
    "start_time = time.time()\n",
    "\n",
    "regr = LinearRegression()\n",
    "\n",
    "print(\"********* Random Forest *********\")\n",
    "lr_model = runModel(df_total,regr)\n",
    "print_default_rates(lr_model, 10)\n",
    "print(\"--- {:.2f} seconds ---\".format(time.time() - start_time))"
   ]
  },
  {
   "cell_type": "code",
   "execution_count": 16,
   "metadata": {
    "scrolled": false
   },
   "outputs": [
    {
     "data": {
      "image/png": "[encoded data removed]",
      "text/plain": [
       "<Figure size 432x288 with 1 Axes>"
      ]
     },
     "metadata": {
      "needs_background": "light"
     },
     "output_type": "display_data"
    },
    {
     "data": {
      "image/png": "[encoded data removed]",
      "text/plain": [
       "<Figure size 432x288 with 1 Axes>"
      ]
     },
     "metadata": {
      "needs_background": "light"
     },
     "output_type": "display_data"
    }
   ],
   "source": [
    "plt.hist(lr_model[lr_model['default'] == 0].probability)\n",
    "plt.title('Probability distribution - no default')\n",
    "plt.show()\n",
    "\n",
    "plt.hist(lr_model[lr_model['default'] == 1].probability)\n",
    "plt.title('Probability distribution - default')\n",
    "plt.show()"
   ]
  },
  {
   "cell_type": "code",
   "execution_count": 19,
   "metadata": {
    "scrolled": true
   },
   "outputs": [
    {
     "name": "stdout",
     "output_type": "stream",
     "text": [
      "Features:  sex, marital, income, social2, employed, retired, student, unemployed\n",
      "0.29432661415320927 +\n"
     ]
    }
   ],
   "source": [
    "X, y = preprocess(df_total)\n",
    "cols = list(X.columns)\n",
    "importance = {}\n",
    "intercepts = []\n",
    "for el in cols:\n",
    "    importance[el] = []\n",
    "    \n",
    "\n",
    "for i in range(5):\n",
    "    X_train, X_test, y_train, y_test = train_test_split(X, y, test_size=0.2)\n",
    "    regr.fit(X_train, y_train)\n",
    "    intercepts.append(regr.intercept_)\n",
    "    for i in range(len(cols)):\n",
    "        importance[cols[i]].append(regr.coef_[i])\n",
    "    \n",
    "print('Features: ', ', '.join(cols))\n",
    "print(np.mean(intercepts), '+')\n"
   ]
  },
  {
   "cell_type": "code",
   "execution_count": 20,
   "metadata": {},
   "outputs": [
    {
     "data": {
      "text/plain": [
       "{'sex': [-0.007501781356404041,\n",
       "  -0.006962557580616952,\n",
       "  -0.005191830302485693,\n",
       "  -0.006769747198141087,\n",
       "  -0.009425820566404815],\n",
       " 'marital': [-0.014771879272360481,\n",
       "  -0.01510607838356209,\n",
       "  -0.014920453898441327,\n",
       "  -0.015597903640328984,\n",
       "  -0.016832985824000727],\n",
       " 'income': [-8.259738744704028e-07,\n",
       "  -8.429394366896462e-07,\n",
       "  -8.659320268298906e-07,\n",
       "  -8.243003875608684e-07,\n",
       "  -8.589409026668289e-07],\n",
       " 'social2': [-0.1113250696213321,\n",
       "  -0.11171819693729021,\n",
       "  -0.11540570999192258,\n",
       "  -0.11518913455774808,\n",
       "  -0.1123074246474623],\n",
       " 'employed': [-0.04164509197318437,\n",
       "  -0.04389058118748858,\n",
       "  -0.0434128541559091,\n",
       "  -0.044673942108482516,\n",
       "  -0.0438499028503182],\n",
       " 'retired': [-0.07013927930062899,\n",
       "  -0.06764896021937947,\n",
       "  -0.06987514566230119,\n",
       "  -0.06602392587958558,\n",
       "  -0.06699019534159727],\n",
       " 'student': [0.03670128699832544,\n",
       "  0.03799808829412809,\n",
       "  0.038897247899543644,\n",
       "  0.038265261158037946,\n",
       "  0.036263206752504155],\n",
       " 'unemployed': [0.0750830842754879,\n",
       "  0.07354145311273974,\n",
       "  0.07439075191866666,\n",
       "  0.07243260683003036,\n",
       "  0.07457689143941103]}"
      ]
     },
     "execution_count": 20,
     "metadata": {},
     "output_type": "execute_result"
    }
   ],
   "source": [
    "importance"
   ]
  },
  {
   "cell_type": "markdown",
   "metadata": {},
   "source": [
    "## Model 3: Logistic Regression"
   ]
  },
  {
   "cell_type": "code",
   "execution_count": 69,
   "metadata": {
    "scrolled": false
   },
   "outputs": [
    {
     "name": "stdout",
     "output_type": "stream",
     "text": [
      "********* Logistic Regression *********\n",
      "--- 1.09 seconds ---\n"
     ]
    }
   ],
   "source": [
    "start_time = time.time()\n",
    "\n",
    "regr = LogisticRegression()\n",
    "\n",
    "print(\"********* Logistic Regression *********\")\n",
    "log_model = runModel(df_total,regr)\n",
    "print(\"--- {:.2f} seconds ---\".format(time.time() - start_time))"
   ]
  },
  {
   "cell_type": "markdown",
   "metadata": {},
   "source": [
    "Well, it does make sense that your model predicts always 1. Have a look at your data set: it is severly imbalanced in favor of your positive class. The negative class makes up only ~7% of your data. Try re-balancing your training set or use a cost-sensitive algorithm."
   ]
  },
  {
   "cell_type": "code",
   "execution_count": 70,
   "metadata": {
    "scrolled": true
   },
   "outputs": [
    {
     "data": {
      "text/html": [
       "<div>\n",
       "<style scoped>\n",
       "    .dataframe tbody tr th:only-of-type {\n",
       "        vertical-align: middle;\n",
       "    }\n",
       "\n",
       "    .dataframe tbody tr th {\n",
       "        vertical-align: top;\n",
       "    }\n",
       "\n",
       "    .dataframe thead th {\n",
       "        text-align: right;\n",
       "    }\n",
       "</style>\n",
       "<table border=\"1\" class=\"dataframe\">\n",
       "  <thead>\n",
       "    <tr style=\"text-align: right;\">\n",
       "      <th></th>\n",
       "      <th>sex</th>\n",
       "      <th>marital</th>\n",
       "      <th>income</th>\n",
       "      <th>social2</th>\n",
       "      <th>employed</th>\n",
       "      <th>retired</th>\n",
       "      <th>student</th>\n",
       "      <th>unemployed</th>\n",
       "      <th>default</th>\n",
       "      <th>probability</th>\n",
       "    </tr>\n",
       "  </thead>\n",
       "  <tbody>\n",
       "    <tr>\n",
       "      <th>1</th>\n",
       "      <td>1</td>\n",
       "      <td>1</td>\n",
       "      <td>26108</td>\n",
       "      <td>0.592502</td>\n",
       "      <td>1.0</td>\n",
       "      <td>0.0</td>\n",
       "      <td>0.0</td>\n",
       "      <td>0.0</td>\n",
       "      <td>0</td>\n",
       "      <td>0</td>\n",
       "    </tr>\n",
       "    <tr>\n",
       "      <th>4</th>\n",
       "      <td>0</td>\n",
       "      <td>1</td>\n",
       "      <td>3459</td>\n",
       "      <td>0.000000</td>\n",
       "      <td>0.0</td>\n",
       "      <td>1.0</td>\n",
       "      <td>0.0</td>\n",
       "      <td>0.0</td>\n",
       "      <td>1</td>\n",
       "      <td>0</td>\n",
       "    </tr>\n",
       "    <tr>\n",
       "      <th>6</th>\n",
       "      <td>0</td>\n",
       "      <td>0</td>\n",
       "      <td>6085</td>\n",
       "      <td>0.690899</td>\n",
       "      <td>1.0</td>\n",
       "      <td>0.0</td>\n",
       "      <td>0.0</td>\n",
       "      <td>0.0</td>\n",
       "      <td>1</td>\n",
       "      <td>0</td>\n",
       "    </tr>\n",
       "    <tr>\n",
       "      <th>8</th>\n",
       "      <td>0</td>\n",
       "      <td>1</td>\n",
       "      <td>4506</td>\n",
       "      <td>0.823873</td>\n",
       "      <td>1.0</td>\n",
       "      <td>0.0</td>\n",
       "      <td>0.0</td>\n",
       "      <td>0.0</td>\n",
       "      <td>0</td>\n",
       "      <td>0</td>\n",
       "    </tr>\n",
       "    <tr>\n",
       "      <th>10</th>\n",
       "      <td>1</td>\n",
       "      <td>1</td>\n",
       "      <td>5768</td>\n",
       "      <td>0.000000</td>\n",
       "      <td>1.0</td>\n",
       "      <td>0.0</td>\n",
       "      <td>0.0</td>\n",
       "      <td>0.0</td>\n",
       "      <td>0</td>\n",
       "      <td>0</td>\n",
       "    </tr>\n",
       "    <tr>\n",
       "      <th>...</th>\n",
       "      <td>...</td>\n",
       "      <td>...</td>\n",
       "      <td>...</td>\n",
       "      <td>...</td>\n",
       "      <td>...</td>\n",
       "      <td>...</td>\n",
       "      <td>...</td>\n",
       "      <td>...</td>\n",
       "      <td>...</td>\n",
       "      <td>...</td>\n",
       "    </tr>\n",
       "    <tr>\n",
       "      <th>99982</th>\n",
       "      <td>1</td>\n",
       "      <td>0</td>\n",
       "      <td>30992</td>\n",
       "      <td>0.573553</td>\n",
       "      <td>1.0</td>\n",
       "      <td>0.0</td>\n",
       "      <td>0.0</td>\n",
       "      <td>0.0</td>\n",
       "      <td>0</td>\n",
       "      <td>0</td>\n",
       "    </tr>\n",
       "    <tr>\n",
       "      <th>99989</th>\n",
       "      <td>1</td>\n",
       "      <td>1</td>\n",
       "      <td>18364</td>\n",
       "      <td>0.845136</td>\n",
       "      <td>1.0</td>\n",
       "      <td>0.0</td>\n",
       "      <td>0.0</td>\n",
       "      <td>0.0</td>\n",
       "      <td>0</td>\n",
       "      <td>0</td>\n",
       "    </tr>\n",
       "    <tr>\n",
       "      <th>99992</th>\n",
       "      <td>1</td>\n",
       "      <td>1</td>\n",
       "      <td>10165</td>\n",
       "      <td>0.000000</td>\n",
       "      <td>0.0</td>\n",
       "      <td>1.0</td>\n",
       "      <td>0.0</td>\n",
       "      <td>0.0</td>\n",
       "      <td>0</td>\n",
       "      <td>0</td>\n",
       "    </tr>\n",
       "    <tr>\n",
       "      <th>99993</th>\n",
       "      <td>1</td>\n",
       "      <td>0</td>\n",
       "      <td>19044</td>\n",
       "      <td>0.604602</td>\n",
       "      <td>0.0</td>\n",
       "      <td>0.0</td>\n",
       "      <td>0.0</td>\n",
       "      <td>1.0</td>\n",
       "      <td>0</td>\n",
       "      <td>0</td>\n",
       "    </tr>\n",
       "    <tr>\n",
       "      <th>99998</th>\n",
       "      <td>1</td>\n",
       "      <td>1</td>\n",
       "      <td>66772</td>\n",
       "      <td>0.675198</td>\n",
       "      <td>1.0</td>\n",
       "      <td>0.0</td>\n",
       "      <td>0.0</td>\n",
       "      <td>0.0</td>\n",
       "      <td>0</td>\n",
       "      <td>0</td>\n",
       "    </tr>\n",
       "  </tbody>\n",
       "</table>\n",
       "<p>100000 rows × 10 columns</p>\n",
       "</div>"
      ],
      "text/plain": [
       "       sex  marital  income   social2  employed  retired  student  unemployed  \\\n",
       "1        1        1   26108  0.592502       1.0      0.0      0.0         0.0   \n",
       "4        0        1    3459  0.000000       0.0      1.0      0.0         0.0   \n",
       "6        0        0    6085  0.690899       1.0      0.0      0.0         0.0   \n",
       "8        0        1    4506  0.823873       1.0      0.0      0.0         0.0   \n",
       "10       1        1    5768  0.000000       1.0      0.0      0.0         0.0   \n",
       "...    ...      ...     ...       ...       ...      ...      ...         ...   \n",
       "99982    1        0   30992  0.573553       1.0      0.0      0.0         0.0   \n",
       "99989    1        1   18364  0.845136       1.0      0.0      0.0         0.0   \n",
       "99992    1        1   10165  0.000000       0.0      1.0      0.0         0.0   \n",
       "99993    1        0   19044  0.604602       0.0      0.0      0.0         1.0   \n",
       "99998    1        1   66772  0.675198       1.0      0.0      0.0         0.0   \n",
       "\n",
       "       default  probability  \n",
       "1            0            0  \n",
       "4            1            0  \n",
       "6            1            0  \n",
       "8            0            0  \n",
       "10           0            0  \n",
       "...        ...          ...  \n",
       "99982        0            0  \n",
       "99989        0            0  \n",
       "99992        0            0  \n",
       "99993        0            0  \n",
       "99998        0            0  \n",
       "\n",
       "[100000 rows x 10 columns]"
      ]
     },
     "execution_count": 70,
     "metadata": {},
     "output_type": "execute_result"
    }
   ],
   "source": [
    "log_model"
   ]
  },
  {
   "cell_type": "code",
   "execution_count": 71,
   "metadata": {
    "scrolled": false
   },
   "outputs": [
    {
     "data": {
      "image/png": "[encoded data removed]",
      "text/plain": [
       "<Figure size 432x288 with 1 Axes>"
      ]
     },
     "metadata": {
      "needs_background": "light"
     },
     "output_type": "display_data"
    },
    {
     "data": {
      "image/png": "[encoded data removed]",
      "text/plain": [
       "<Figure size 432x288 with 1 Axes>"
      ]
     },
     "metadata": {
      "needs_background": "light"
     },
     "output_type": "display_data"
    }
   ],
   "source": [
    "plt.hist(log_model[log_model['default'] == 0].probability)\n",
    "plt.title('Probability distribution - no default')\n",
    "plt.show()\n",
    "\n",
    "plt.hist(log_model[log_model['default'] == 1].probability)\n",
    "plt.title('Probability distribution - default')\n",
    "plt.show()"
   ]
  },
  {
   "cell_type": "code",
   "execution_count": null,
   "metadata": {
    "scrolled": true
   },
   "outputs": [],
   "source": [
    "plt.subplot(1, 2, 1)\n",
    "plt.hist(df_total[df_total['default'] == 0]['income'])\n",
    "plt.title('A tale of 2 subplots')\n",
    "plt.ylabel('Damped oscillation')\n",
    "\n",
    "\n",
    "plt.subplot(1, 2, 2)\n",
    "plt.hist(df_total[df_total['default'] == 1]['income'])\n",
    "plt.xlabel('time (s)')\n",
    "plt.ylabel('Undamped')\n",
    "\n",
    "plt.tight_layout()\n",
    "plt.show()"
   ]
  },
  {
   "cell_type": "code",
   "execution_count": null,
   "metadata": {
    "scrolled": true
   },
   "outputs": [],
   "source": [
    "rmse = mean_squared_error(model.default, model.probability)"
   ]
  },
  {
   "cell_type": "code",
   "execution_count": null,
   "metadata": {
    "scrolled": true
   },
   "outputs": [],
   "source": [
    "#Função que gera resultados\n",
    "\n",
    "def results(x,df):\n",
    "    pos = x[0]\n",
    "    i = x[1][pos][1]\n",
    "    df_result = df.iloc[i].copy()\n",
    "    df_result['predito'] = x[2]\n",
    "    df_result['dif_prog'] = abs(df_result['programado']-df_result['realizado'])/df_result['realizado']\n",
    "    df_result['dif_pred'] = abs(df_result['predito']-df_result['realizado'])/df_result['realizado']\n",
    "    df_result = df_result.drop(['dif', 'dif_percent', 'dif_percent2'], axis = 1)\n",
    "    return df_result"
   ]
  },
  {
   "cell_type": "code",
   "execution_count": null,
   "metadata": {
    "scrolled": true
   },
   "outputs": [],
   "source": [
    "#Função que define a métrica RMSE\n",
    "\n",
    "def rmse_function(actual, predict):\n",
    "    predict = np.array(predict)\n",
    "    actual = np.array(actual)\n",
    "\n",
    "    distance = predict - actual\n",
    "\n",
    "    square_distance = distance ** 2\n",
    "\n",
    "    mean_square_distance = square_distance.mean()\n",
    "\n",
    "    score = np.sqrt(mean_square_distance)\n",
    "\n",
    "    return score"
   ]
  },
  {
   "cell_type": "code",
   "execution_count": null,
   "metadata": {
    "scrolled": true
   },
   "outputs": [],
   "source": [
    "#Otimização dos hiperparâmetros\n",
    "\n",
    "def runGrid(df, regr, param_grid):\n",
    "    X, y = preprocess(df)\n",
    "    \n",
    "    rmse_score = make_scorer(rmse_function,greater_is_better=False)\n",
    "    grid_search = GridSearchCV(estimator = regr, param_grid = param_grid,\n",
    "                               scoring = rmse_score, cv = 5, n_jobs = -1, verbose = True)\n",
    "\n",
    "    grid_search.fit(X, y)\n",
    "    return grid_search"
   ]
  },
  {
   "cell_type": "code",
   "execution_count": null,
   "metadata": {
    "scrolled": false
   },
   "outputs": [],
   "source": [
    "#Roda hiperparâmetros\n",
    "\n",
    "param_grid = {\n",
    "    'bootstrap': [True, False],\n",
    "    'max_depth': [10,50, None],\n",
    "    'max_features': ['auto', 'sqrt'],\n",
    "    'min_samples_leaf': [1, 10, 20],\n",
    "    'min_samples_split': [2, 10, 20],\n",
    "    'n_estimators': [100, 500, 1000],\n",
    "    'random_state':[1]\n",
    "}\n",
    "    \n",
    "rf = RandomForestRegressor()\n",
    "    \n",
    "grid = runGrid(df_total, rf, param_grid)"
   ]
  }
 ],
 "metadata": {
  "kernelspec": {
   "display_name": "Python 3 (ipykernel)",
   "language": "python",
   "name": "python3"
  },
  "language_info": {
   "codemirror_mode": {
    "name": "ipython",
    "version": 3
   },
   "file_extension": ".py",
   "mimetype": "text/x-python",
   "name": "python",
   "nbconvert_exporter": "python",
   "pygments_lexer": "ipython3",
   "version": "3.9.7"
  }
 },
 "nbformat": 4,
 "nbformat_minor": 4
}
